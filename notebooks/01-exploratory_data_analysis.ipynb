{
 "cells": [
  {
   "cell_type": "markdown",
   "metadata": {},
   "source": [
    "# Análise exploratória de dados"
   ]
  },
  {
   "cell_type": "code",
   "execution_count": null,
   "metadata": {
    "tags": []
   },
   "outputs": [],
   "source": [
    "import pandas as pd\n",
    "import seaborn as sns\n",
    "import matplotlib.pyplot as plt\n",
    "import numpy as np"
   ]
  },
  {
   "cell_type": "markdown",
   "metadata": {},
   "source": [
    "## 1. Descrição dos dados"
   ]
  },
  {
   "cell_type": "markdown",
   "metadata": {},
   "source": [
    "### 1.1 Coleta de dados"
   ]
  },
  {
   "cell_type": "code",
   "execution_count": null,
   "metadata": {
    "tags": []
   },
   "outputs": [],
   "source": [
    "df = pd.read_csv('../data/raw/CarsData.csv')\n",
    "df.to_csv('../data/raw/CarsData.csv', index=False)"
   ]
  },
  {
   "cell_type": "code",
   "execution_count": null,
   "metadata": {
    "tags": []
   },
   "outputs": [],
   "source": [
    "df.columns"
   ]
  },
  {
   "cell_type": "code",
   "execution_count": null,
   "metadata": {
    "tags": []
   },
   "outputs": [],
   "source": [
    "dicionario_cars = pd.DataFrame([\n",
    "    {\n",
    "        'variavel': 'model',\n",
    "        'descricao': 'O modelo do carro.',\n",
    "        'tipo': 'qualitativa',\n",
    "        'subtipo': 'nominal'\n",
    "    },{\n",
    "        'variavel': 'year',\n",
    "        'descricao': 'O ano de fabricação do carro.',\n",
    "        'tipo': 'quantitativa',\n",
    "        'subtipo': 'discreta'\n",
    "    },{\n",
    "        'variavel': 'price',\n",
    "        'descricao': 'O preço do carro.',\n",
    "        'tipo': 'quantitativa',\n",
    "        'subtipo': 'continua'\n",
    "    },{\n",
    "        'variavel': 'transmission',\n",
    "        'descricao': 'O tipo de transmissão usada no carro.',\n",
    "        'tipo': 'qualitativa',\n",
    "        'subtipo': 'nominal'\n",
    "    },{\n",
    "        'variavel': 'mileage',\n",
    "        'descricao': 'A quilometragem do carro.',\n",
    "        'tipo': 'quantitativa',\n",
    "        'subtipo': 'continua'\n",
    "    },{\n",
    "        'variavel': 'fuelType',\n",
    "        'descricao': 'O tipo de combustível usado pelo carro.',\n",
    "        'tipo': 'qualitativa',\n",
    "        'subtipo': 'nominal'\n",
    "    },{\n",
    "        'variavel': 'tax',\n",
    "        'descricao': 'A taxa de imposto aplicável ao carro.',\n",
    "        'tipo': 'quantitativa',\n",
    "        'subtipo': 'continua'\n",
    "    },{\n",
    "        'variavel': 'mpg',\n",
    "        'descricao': 'A eficiência em milhas por galão do carro.',\n",
    "        'tipo': 'quantitativa',\n",
    "        'subtipo': 'continua'\n",
    "    },{\n",
    "        'variavel': 'engineSize',\n",
    "        'descricao': 'O tamanho do motor do carro.',\n",
    "        'tipo': 'quantitativa',\n",
    "        'subtipo': 'continua'\n",
    "    },{\n",
    "        'variavel': 'Manufacturer',\n",
    "        'descricao': 'O fabricante do carro.',\n",
    "        'tipo': 'qualitativa',\n",
    "        'subtipo': 'nominal'\n",
    "    }\n",
    "])\n",
    "\n",
    "dicionario_cars"
   ]
  },
  {
   "cell_type": "code",
   "execution_count": null,
   "metadata": {
    "tags": []
   },
   "outputs": [],
   "source": [
    "dicionario_cars.to_csv('../data/external/DictionaryCars.csv', index=False)"
   ]
  },
  {
   "cell_type": "markdown",
   "metadata": {},
   "source": [
    "## 2. Perguntas de partida e hipóteses"
   ]
  },
  {
   "cell_type": "markdown",
   "metadata": {},
   "source": [
    "### 2.1 Predição de preços para os próximos 2 anos"
   ]
  },
  {
   "cell_type": "markdown",
   "metadata": {},
   "source": [
    "### 2.2 Custo benefício baseado em algumas variáveis. (Modelos/Quilometragem(MPG)/Imposto/Preço)"
   ]
  },
  {
   "cell_type": "markdown",
   "metadata": {},
   "source": [
    "### 2.3 Análise sobre a preferência do tipo de combustível com o passar dos anos."
   ]
  },
  {
   "cell_type": "markdown",
   "metadata": {},
   "source": [
    "### 2.4 Relação de preço por marca. Marca de carros mais baratos/ Carros mais caros."
   ]
  },
  {
   "cell_type": "markdown",
   "metadata": {},
   "source": [
    "### 2.5 Preferência por transmissão do veículo."
   ]
  },
  {
   "cell_type": "markdown",
   "metadata": {},
   "source": [
    "### 2.6 Relação do tamanho do motor com o tipo de combustível"
   ]
  },
  {
   "cell_type": "markdown",
   "metadata": {},
   "source": [
    "### 2.7 Relação do tamanho motor com MPG"
   ]
  },
  {
   "cell_type": "markdown",
   "metadata": {
    "tags": []
   },
   "source": [
    "### 2.8 Relação da taxa de imposto com o ano de fabricação do carro"
   ]
  },
  {
   "cell_type": "markdown",
   "metadata": {},
   "source": [
    "##### * **Existe alguma relação entre preço e marca?**\n",
    "\n",
    "    Vamos verificar se a marca de carros pode determinar se o carro é mais barato ou mais caro.\n",
    "    \n",
    "    As marcas são: Hyundi, Volkswagen, BMW, Skoda, Ford, Toyota, Mercedes, Vauxhall e Audi."
   ]
  },
  {
   "cell_type": "code",
   "execution_count": null,
   "metadata": {
    "tags": []
   },
   "outputs": [],
   "source": [
    "mean_prices = df.groupby('Manufacturer')['price'].mean().sort_values(ascending=False)\n",
    "plt.figure(figsize=(6, 4))\n",
    "palette = sns.color_palette(\"rocket\", len(mean_prices))\n",
    "sns.barplot(x=mean_prices.values, y=mean_prices.index, palette=palette)\n",
    "plt.xlabel('Média dos Preços')\n",
    "plt.ylabel('Fabricante')\n",
    "plt.title('Média dos Preços por Fabricante')\n",
    "plt.show()"
   ]
  },
  {
   "cell_type": "code",
   "execution_count": null,
   "metadata": {
    "tags": []
   },
   "outputs": [],
   "source": [
    "sns.swarmplot(data=df , x=\"Manufacturer\", y=\"price\", orient=\"h\", size=5)"
   ]
  },
  {
   "cell_type": "markdown",
   "metadata": {},
   "source": [
    "* Os carros da marca Mercedes são mais caros em comparação as outras marcas.\n",
    "*"
   ]
  },
  {
   "cell_type": "markdown",
   "metadata": {},
   "source": [
    "## 3. Insights"
   ]
  }
 ],
 "metadata": {
  "kernelspec": {
   "display_name": "Python 3 (ipykernel)",
   "language": "python",
   "name": "python3"
  },
  "language_info": {
   "codemirror_mode": {
    "name": "ipython",
    "version": 3
   },
   "file_extension": ".py",
   "mimetype": "text/x-python",
   "name": "python",
   "nbconvert_exporter": "python",
   "pygments_lexer": "ipython3",
   "version": "3.10.14"
  },
  "vscode": {
   "interpreter": {
    "hash": "eb3c3305d8b111f0102f4f519c5f17abd113fe74db6752c355e994a9008815ef"
   }
  }
 },
 "nbformat": 4,
 "nbformat_minor": 4
}
